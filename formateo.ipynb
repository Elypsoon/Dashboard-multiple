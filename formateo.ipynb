{
 "cells": [
  {
   "cell_type": "code",
   "execution_count": 1,
   "id": "29d593f7",
   "metadata": {},
   "outputs": [],
   "source": [
    "import pandas as pd\n",
    "import numpy as np"
   ]
  },
  {
   "cell_type": "code",
   "execution_count": 2,
   "id": "e85b1b40",
   "metadata": {},
   "outputs": [],
   "source": [
    "cdmx = pd.read_csv('listings - CDMX_clean.csv')\n",
    "bang = pd.read_csv('listings_bangkok.csv')\n",
    "flor = pd.read_csv('listings_Florencia_clean.csv')\n",
    "ny = pd.read_csv('listings - New York_clean.csv')"
   ]
  },
  {
   "cell_type": "code",
   "execution_count": 26,
   "id": "08ed76ff",
   "metadata": {},
   "outputs": [
    {
     "name": "stderr",
     "output_type": "stream",
     "text": [
      "C:\\Users\\angel\\AppData\\Local\\Temp\\ipykernel_13696\\2179240890.py:12: FutureWarning: Downcasting object dtype arrays on .fillna, .ffill, .bfill is deprecated and will change in a future version. Call result.infer_objects(copy=False) instead. To opt-in to the future behavior, set `pd.set_option('future.no_silent_downcasting', True)`\n",
      "  bang = bang[bang['host_response_rate'].str.isnumeric().fillna(False)]\n"
     ]
    }
   ],
   "source": [
    "# Convertimos host_response_rate a float\n",
    "# Primero quitamos el símbolo % y luego intentamos convertir a float\n",
    "# Si hay valores que no se pueden convertir, los filtramos\n",
    "\n",
    "# Para CDMX\n",
    "cdmx['host_response_rate'] = cdmx['host_response_rate'].str.replace('%', '', regex=False)\n",
    "cdmx = cdmx[cdmx['host_response_rate'].str.isnumeric().fillna(False)]\n",
    "cdmx['host_response_rate'] = cdmx['host_response_rate'].astype(float) / 100\n",
    "\n",
    "# Para Bangkok\n",
    "bang['host_response_rate'] = bang['host_response_rate'].str.replace('%', '', regex=False)\n",
    "bang = bang[bang['host_response_rate'].str.isnumeric().fillna(False)]\n",
    "bang['host_response_rate'] = bang['host_response_rate'].astype(float) / 100\n",
    "\n",
    "# Para Florencia\n",
    "flor['host_response_rate'] = flor['host_response_rate'].str.replace('%', '', regex=False)\n",
    "flor = flor[flor['host_response_rate'].str.isnumeric().fillna(False)]\n",
    "flor['host_response_rate'] = flor['host_response_rate'].astype(float) / 100\n",
    "\n",
    "# Para Nueva York\n",
    "ny['host_response_rate'] = ny['host_response_rate'].str.replace('%', '', regex=False)\n",
    "ny = ny[ny['host_response_rate'].str.isnumeric().fillna(False)]\n",
    "ny['host_response_rate'] = ny['host_response_rate'].astype(float) / 100"
   ]
  },
  {
   "cell_type": "code",
   "execution_count": 34,
   "id": "ab65dd22",
   "metadata": {},
   "outputs": [
    {
     "name": "stderr",
     "output_type": "stream",
     "text": [
      "C:\\Users\\angel\\AppData\\Local\\Temp\\ipykernel_13696\\1061365228.py:12: FutureWarning: Downcasting object dtype arrays on .fillna, .ffill, .bfill is deprecated and will change in a future version. Call result.infer_objects(copy=False) instead. To opt-in to the future behavior, set `pd.set_option('future.no_silent_downcasting', True)`\n",
      "  bang = bang[bang['host_acceptance_rate'].str.isnumeric().fillna(False)]\n"
     ]
    }
   ],
   "source": [
    "# Convertimos host_acceptance_rate a float\n",
    "# Primero quitamos el símbolo % y luego intentamos convertir a float\n",
    "# Si hay valores que no se pueden convertir, los filtramos\n",
    "\n",
    "# Para CDMX\n",
    "cdmx['host_acceptance_rate'] = cdmx['host_acceptance_rate'].str.replace('%', '', regex=False)\n",
    "cdmx = cdmx[cdmx['host_acceptance_rate'].str.isnumeric().fillna(False)]\n",
    "cdmx['host_acceptance_rate'] = cdmx['host_acceptance_rate'].astype(float) / 100\n",
    "\n",
    "# Para Bangkok\n",
    "bang['host_acceptance_rate'] = bang['host_acceptance_rate'].str.replace('%', '', regex=False)\n",
    "bang = bang[bang['host_acceptance_rate'].str.isnumeric().fillna(False)]\n",
    "bang['host_acceptance_rate'] = bang['host_acceptance_rate'].astype(float) / 100\n",
    "\n",
    "# Para Florencia\n",
    "flor['host_acceptance_rate'] = flor['host_acceptance_rate'].str.replace('%', '', regex=False)\n",
    "flor = flor[flor['host_acceptance_rate'].str.isnumeric().fillna(False)]\n",
    "flor['host_acceptance_rate'] = flor['host_acceptance_rate'].astype(float) / 100\n",
    "\n",
    "# Para Nueva York\n",
    "ny['host_acceptance_rate'] = ny['host_acceptance_rate'].str.replace('%', '', regex=False)\n",
    "ny = ny[ny['host_acceptance_rate'].str.isnumeric().fillna(False)]\n",
    "ny['host_acceptance_rate'] = ny['host_acceptance_rate'].astype(float) / 100"
   ]
  },
  {
   "cell_type": "code",
   "execution_count": 39,
   "id": "1e0d7646",
   "metadata": {},
   "outputs": [
    {
     "data": {
      "text/plain": [
       "2        0.78\n",
       "3        0.78\n",
       "4        0.00\n",
       "5        0.93\n",
       "10       1.00\n",
       "         ... \n",
       "25603    1.00\n",
       "25604    0.49\n",
       "25605    1.00\n",
       "25606    0.77\n",
       "25607    0.77\n",
       "Name: host_acceptance_rate, Length: 21180, dtype: float64"
      ]
     },
     "execution_count": 39,
     "metadata": {},
     "output_type": "execute_result"
    }
   ],
   "source": [
    "bang['host_acceptance_rate']"
   ]
  },
  {
   "cell_type": "code",
   "execution_count": 19,
   "id": "42dda7a6",
   "metadata": {},
   "outputs": [],
   "source": [
    "# Quitamos todos los nulos de cdmx de la columna room_type\n",
    "cdmx = cdmx[~cdmx['room_type'].isnull()]"
   ]
  },
  {
   "cell_type": "code",
   "execution_count": 12,
   "id": "01af691b",
   "metadata": {},
   "outputs": [
    {
     "data": {
      "text/plain": [
       "dtype('float64')"
      ]
     },
     "execution_count": 12,
     "metadata": {},
     "output_type": "execute_result"
    }
   ],
   "source": [
    "# Convertimos a float las columnas de precios de bangkok\n",
    "bang['price'] = bang['price'].str.replace('$', '').str.replace(',', '').astype(float)\n",
    "bang['price'].dtypes"
   ]
  },
  {
   "cell_type": "code",
   "execution_count": 40,
   "id": "c628f24f",
   "metadata": {},
   "outputs": [],
   "source": [
    "# Exportamos los dataframes a csv\n",
    "bang.to_csv('listings_bangkok_clean.csv', index=False)\n",
    "cdmx.to_csv('listings - CDMX_clean.csv', index=False)\n",
    "flor.to_csv('listings_Florencia_clean.csv', index=False)\n",
    "ny.to_csv('listings - New York_clean.csv', index=False)"
   ]
  }
 ],
 "metadata": {
  "kernelspec": {
   "display_name": "Python 3",
   "language": "python",
   "name": "python3"
  },
  "language_info": {
   "codemirror_mode": {
    "name": "ipython",
    "version": 3
   },
   "file_extension": ".py",
   "mimetype": "text/x-python",
   "name": "python",
   "nbconvert_exporter": "python",
   "pygments_lexer": "ipython3",
   "version": "3.10.6"
  }
 },
 "nbformat": 4,
 "nbformat_minor": 5
}
