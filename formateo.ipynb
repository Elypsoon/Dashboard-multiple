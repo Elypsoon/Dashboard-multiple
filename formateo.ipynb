{
 "cells": [
  {
   "cell_type": "code",
   "execution_count": 2,
   "id": "29d593f7",
   "metadata": {},
   "outputs": [],
   "source": [
    "import pandas as pd\n",
    "import numpy as np"
   ]
  },
  {
   "cell_type": "code",
   "execution_count": 3,
   "id": "e85b1b40",
   "metadata": {},
   "outputs": [],
   "source": [
    "cdmx = pd.read_csv('listings - CDMX_clean.csv')\n",
    "bang = pd.read_csv('listings_bangkok_clean.csv')\n",
    "flor = pd.read_csv('listings_Florencia_clean.csv')\n",
    "ny = pd.read_csv('listings - New York_clean.csv')"
   ]
  },
  {
   "cell_type": "code",
   "execution_count": 26,
   "id": "08ed76ff",
   "metadata": {},
   "outputs": [
    {
     "name": "stderr",
     "output_type": "stream",
     "text": [
      "C:\\Users\\angel\\AppData\\Local\\Temp\\ipykernel_13696\\2179240890.py:12: FutureWarning: Downcasting object dtype arrays on .fillna, .ffill, .bfill is deprecated and will change in a future version. Call result.infer_objects(copy=False) instead. To opt-in to the future behavior, set `pd.set_option('future.no_silent_downcasting', True)`\n",
      "  bang = bang[bang['host_response_rate'].str.isnumeric().fillna(False)]\n"
     ]
    }
   ],
   "source": [
    "# Convertimos host_response_rate a float\n",
    "# Primero quitamos el símbolo % y luego intentamos convertir a float\n",
    "# Si hay valores que no se pueden convertir, los filtramos\n",
    "\n",
    "# Para CDMX\n",
    "cdmx['host_response_rate'] = cdmx['host_response_rate'].str.replace('%', '', regex=False)\n",
    "cdmx = cdmx[cdmx['host_response_rate'].str.isnumeric().fillna(False)]\n",
    "cdmx['host_response_rate'] = cdmx['host_response_rate'].astype(float) / 100\n",
    "\n",
    "# Para Bangkok\n",
    "bang['host_response_rate'] = bang['host_response_rate'].str.replace('%', '', regex=False)\n",
    "bang = bang[bang['host_response_rate'].str.isnumeric().fillna(False)]\n",
    "bang['host_response_rate'] = bang['host_response_rate'].astype(float) / 100\n",
    "\n",
    "# Para Florencia\n",
    "flor['host_response_rate'] = flor['host_response_rate'].str.replace('%', '', regex=False)\n",
    "flor = flor[flor['host_response_rate'].str.isnumeric().fillna(False)]\n",
    "flor['host_response_rate'] = flor['host_response_rate'].astype(float) / 100\n",
    "\n",
    "# Para Nueva York\n",
    "ny['host_response_rate'] = ny['host_response_rate'].str.replace('%', '', regex=False)\n",
    "ny = ny[ny['host_response_rate'].str.isnumeric().fillna(False)]\n",
    "ny['host_response_rate'] = ny['host_response_rate'].astype(float) / 100"
   ]
  },
  {
   "cell_type": "code",
   "execution_count": 34,
   "id": "ab65dd22",
   "metadata": {},
   "outputs": [
    {
     "name": "stderr",
     "output_type": "stream",
     "text": [
      "C:\\Users\\angel\\AppData\\Local\\Temp\\ipykernel_13696\\1061365228.py:12: FutureWarning: Downcasting object dtype arrays on .fillna, .ffill, .bfill is deprecated and will change in a future version. Call result.infer_objects(copy=False) instead. To opt-in to the future behavior, set `pd.set_option('future.no_silent_downcasting', True)`\n",
      "  bang = bang[bang['host_acceptance_rate'].str.isnumeric().fillna(False)]\n"
     ]
    }
   ],
   "source": [
    "# Convertimos host_acceptance_rate a float\n",
    "# Primero quitamos el símbolo % y luego intentamos convertir a float\n",
    "# Si hay valores que no se pueden convertir, los filtramos\n",
    "\n",
    "# Para CDMX\n",
    "cdmx['host_acceptance_rate'] = cdmx['host_acceptance_rate'].str.replace('%', '', regex=False)\n",
    "cdmx = cdmx[cdmx['host_acceptance_rate'].str.isnumeric().fillna(False)]\n",
    "cdmx['host_acceptance_rate'] = cdmx['host_acceptance_rate'].astype(float) / 100\n",
    "\n",
    "# Para Bangkok\n",
    "bang['host_acceptance_rate'] = bang['host_acceptance_rate'].str.replace('%', '', regex=False)\n",
    "bang = bang[bang['host_acceptance_rate'].str.isnumeric().fillna(False)]\n",
    "bang['host_acceptance_rate'] = bang['host_acceptance_rate'].astype(float) / 100\n",
    "\n",
    "# Para Florencia\n",
    "flor['host_acceptance_rate'] = flor['host_acceptance_rate'].str.replace('%', '', regex=False)\n",
    "flor = flor[flor['host_acceptance_rate'].str.isnumeric().fillna(False)]\n",
    "flor['host_acceptance_rate'] = flor['host_acceptance_rate'].astype(float) / 100\n",
    "\n",
    "# Para Nueva York\n",
    "ny['host_acceptance_rate'] = ny['host_acceptance_rate'].str.replace('%', '', regex=False)\n",
    "ny = ny[ny['host_acceptance_rate'].str.isnumeric().fillna(False)]\n",
    "ny['host_acceptance_rate'] = ny['host_acceptance_rate'].astype(float) / 100"
   ]
  },
  {
   "cell_type": "code",
   "execution_count": 6,
   "id": "8feb24a8",
   "metadata": {},
   "outputs": [],
   "source": [
    "# Quitaremos los outliers de las columnas 'price' de bangkok, las cuales ya están en float\n",
    "# Usaremos el método IQR para detectar outliers\n",
    "\n",
    "def remove_outliers_iqr(df, column):\n",
    "    Q1 = df[column].quantile(0.25)\n",
    "    Q3 = df[column].quantile(0.75)\n",
    "    IQR = Q3 - Q1\n",
    "    lower_bound = Q1 - 1.5 * IQR\n",
    "    upper_bound = Q3 + 1.5 * IQR\n",
    "    return df[(df[column] >= lower_bound) & (df[column] <= upper_bound)]\n",
    "\n",
    "# Aplicamos la función a las columnas 'price' de cada bangkok\n",
    "bang = remove_outliers_iqr(bang, 'price')"
   ]
  },
  {
   "cell_type": "code",
   "execution_count": 7,
   "id": "1e0d7646",
   "metadata": {},
   "outputs": [
    {
     "data": {
      "text/plain": [
       "(3529.88, 40.02)"
      ]
     },
     "execution_count": 7,
     "metadata": {},
     "output_type": "execute_result"
    }
   ],
   "source": [
    "bang['price'].max(), bang['price'].min()"
   ]
  },
  {
   "cell_type": "code",
   "execution_count": 19,
   "id": "42dda7a6",
   "metadata": {},
   "outputs": [],
   "source": [
    "# Quitamos todos los nulos de cdmx de la columna room_type\n",
    "cdmx = cdmx[~cdmx['room_type'].isnull()]"
   ]
  },
  {
   "cell_type": "code",
   "execution_count": 12,
   "id": "01af691b",
   "metadata": {},
   "outputs": [
    {
     "data": {
      "text/plain": [
       "dtype('float64')"
      ]
     },
     "execution_count": 12,
     "metadata": {},
     "output_type": "execute_result"
    }
   ],
   "source": [
    "# Convertimos a float las columnas de precios de bangkok\n",
    "bang['price'] = bang['price'].str.replace('$', '').str.replace(',', '').astype(float)\n",
    "bang['price'].dtypes"
   ]
  },
  {
   "cell_type": "code",
   "execution_count": 23,
   "id": "214adf87",
   "metadata": {},
   "outputs": [],
   "source": [
    "# Rellenamos los nulos de la columna price de bangkok con interpolación\n",
    "bang['price'] = bang['price'].interpolate(method='linear', limit_direction='both')"
   ]
  },
  {
   "cell_type": "code",
   "execution_count": 25,
   "id": "6f288664",
   "metadata": {},
   "outputs": [],
   "source": [
    "# Vamos a pasar el price a mxn para que la comparación sea justa\n",
    "\n",
    "# Definimos los tipos de cambio (a MXN)\n",
    "usd_to_mxn = 19.35  # Tipo de cambio USD a MXN\n",
    "eur_to_mxn = 21.7  # Tipo de cambio EUR a MXN\n",
    "thb_to_mxn = 0.58   # Tipo de cambio THB (Baht tailandés) a MXN\n",
    "\n",
    "# CDMX ya está en MXN, no necesita conversión\n",
    "# cdmx['price_mxn'] = cdmx['price']\n",
    "\n",
    "# Bangkok está en THB (Baht tailandés)\n",
    "# Nos aseguramos que la columna price sea numérica\n",
    "bang['price'] = bang['price'] * thb_to_mxn\n",
    "\n",
    "# Florencia está en EUR\n",
    "# Nos aseguramos que la columna price sea numérica\n",
    "flor['price'] = flor['price'] * eur_to_mxn\n",
    "\n",
    "# Nueva York está en USD\n",
    "# Nos aseguramos que la columna price sea numérica\n",
    "ny['price'] = ny['price'] * usd_to_mxn"
   ]
  },
  {
   "cell_type": "code",
   "execution_count": 33,
   "id": "bfd25057",
   "metadata": {},
   "outputs": [
    {
     "name": "stderr",
     "output_type": "stream",
     "text": [
      "C:\\Users\\angel\\AppData\\Local\\Temp\\ipykernel_14676\\306439828.py:2: FutureWarning: A value is trying to be set on a copy of a DataFrame or Series through chained assignment using an inplace method.\n",
      "The behavior will change in pandas 3.0. This inplace method will never work because the intermediate object on which we are setting values always behaves as a copy.\n",
      "\n",
      "For example, when doing 'df[col].method(value, inplace=True)', try using 'df.method({col: value}, inplace=True)' or df[col] = df[col].method(value) instead, to perform the operation inplace on the original object.\n",
      "\n",
      "\n",
      "  bang['review_scores_rating'].interpolate(method='linear', limit_direction='both', inplace=True)\n"
     ]
    }
   ],
   "source": [
    "# Quitamos los nulos en la columna review_scores_rating de bangkok usando interpolación\n",
    "bang['review_scores_rating'].interpolate(method='linear', limit_direction='both', inplace=True)"
   ]
  },
  {
   "cell_type": "code",
   "execution_count": 8,
   "id": "c628f24f",
   "metadata": {},
   "outputs": [],
   "source": [
    "# Exportamos los dataframes a csv\n",
    "bang.to_csv('listings_bangkok_clean.csv', index=False)\n",
    "cdmx.to_csv('listings - CDMX_clean.csv', index=False)\n",
    "flor.to_csv('listings_Florencia_clean.csv', index=False)\n",
    "ny.to_csv('listings - New York_clean.csv', index=False)"
   ]
  }
 ],
 "metadata": {
  "kernelspec": {
   "display_name": "Python 3",
   "language": "python",
   "name": "python3"
  },
  "language_info": {
   "codemirror_mode": {
    "name": "ipython",
    "version": 3
   },
   "file_extension": ".py",
   "mimetype": "text/x-python",
   "name": "python",
   "nbconvert_exporter": "python",
   "pygments_lexer": "ipython3",
   "version": "3.10.6"
  }
 },
 "nbformat": 4,
 "nbformat_minor": 5
}
